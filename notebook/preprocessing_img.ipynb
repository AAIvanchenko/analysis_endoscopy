{
 "cells": [
  {
   "cell_type": "code",
   "execution_count": 1,
   "id": "0a52abed",
   "metadata": {},
   "outputs": [],
   "source": [
    "import os\n",
    "\n",
    "import cv2 as cv\n",
    "import numpy as np\n",
    "import pandas as pd \n",
    "import matplotlib.pyplot as plt\n",
    "from sklearn.model_selection import train_test_split"
   ]
  },
  {
   "cell_type": "code",
   "execution_count": 2,
   "id": "0fbe1cf3",
   "metadata": {},
   "outputs": [],
   "source": [
    "root_dir = ['../data/original']"
   ]
  },
  {
   "cell_type": "code",
   "execution_count": 3,
   "id": "a448769b",
   "metadata": {},
   "outputs": [],
   "source": [
    "def get_files_and_labels(list_root_dir):\n",
    "    images_path = []\n",
    "    labels = []\n",
    "    \n",
    "    list_classes = list(sorted(os.listdir(list_root_dir[0])))\n",
    "    \n",
    "    for root_dir in list_root_dir:\n",
    "        for i, one_class in enumerate(list_classes):\n",
    "            path_img = list(os.listdir(os.path.join(root_dir, one_class)))\n",
    "            for path in path_img:\n",
    "                path_join = os.path.join(root_dir, os.path.join(one_class, path))\n",
    "                images_path.append(path_join)\n",
    "                labels.append(i)\n",
    "    \n",
    "    df_res = pd.DataFrame()\n",
    "    df_res['paths'] = images_path\n",
    "    df_res['labels'] = labels\n",
    "    \n",
    "    return df_res"
   ]
  },
  {
   "cell_type": "markdown",
   "id": "3f562a2d",
   "metadata": {},
   "source": [
    "# Считывание картинок"
   ]
  },
  {
   "cell_type": "code",
   "execution_count": 4,
   "id": "5fa4fae1",
   "metadata": {},
   "outputs": [],
   "source": [
    "df_res = get_files_and_labels(root_dir)"
   ]
  },
  {
   "cell_type": "code",
   "execution_count": 5,
   "id": "06182655",
   "metadata": {},
   "outputs": [
    {
     "data": {
      "text/html": [
       "<div>\n",
       "<style scoped>\n",
       "    .dataframe tbody tr th:only-of-type {\n",
       "        vertical-align: middle;\n",
       "    }\n",
       "\n",
       "    .dataframe tbody tr th {\n",
       "        vertical-align: top;\n",
       "    }\n",
       "\n",
       "    .dataframe thead th {\n",
       "        text-align: right;\n",
       "    }\n",
       "</style>\n",
       "<table border=\"1\" class=\"dataframe\">\n",
       "  <thead>\n",
       "    <tr style=\"text-align: right;\">\n",
       "      <th></th>\n",
       "      <th>paths</th>\n",
       "      <th>labels</th>\n",
       "    </tr>\n",
       "  </thead>\n",
       "  <tbody>\n",
       "    <tr>\n",
       "      <th>0</th>\n",
       "      <td>../data/original\\esophagitis\\001fb927-4814-4ba...</td>\n",
       "      <td>0</td>\n",
       "    </tr>\n",
       "    <tr>\n",
       "      <th>1</th>\n",
       "      <td>../data/original\\esophagitis\\00687a70-bbad-4bf...</td>\n",
       "      <td>0</td>\n",
       "    </tr>\n",
       "    <tr>\n",
       "      <th>2</th>\n",
       "      <td>../data/original\\esophagitis\\0134d93d-0922-406...</td>\n",
       "      <td>0</td>\n",
       "    </tr>\n",
       "    <tr>\n",
       "      <th>3</th>\n",
       "      <td>../data/original\\esophagitis\\01a57b1a-780f-4e5...</td>\n",
       "      <td>0</td>\n",
       "    </tr>\n",
       "    <tr>\n",
       "      <th>4</th>\n",
       "      <td>../data/original\\esophagitis\\01f092a2-fccb-49f...</td>\n",
       "      <td>0</td>\n",
       "    </tr>\n",
       "    <tr>\n",
       "      <th>...</th>\n",
       "      <td>...</td>\n",
       "      <td>...</td>\n",
       "    </tr>\n",
       "    <tr>\n",
       "      <th>995</th>\n",
       "      <td>../data/original\\normal-z-line\\fcb8704e-f308-4...</td>\n",
       "      <td>1</td>\n",
       "    </tr>\n",
       "    <tr>\n",
       "      <th>996</th>\n",
       "      <td>../data/original\\normal-z-line\\fdb68e1c-a08b-4...</td>\n",
       "      <td>1</td>\n",
       "    </tr>\n",
       "    <tr>\n",
       "      <th>997</th>\n",
       "      <td>../data/original\\normal-z-line\\fde68ca4-2c9f-4...</td>\n",
       "      <td>1</td>\n",
       "    </tr>\n",
       "    <tr>\n",
       "      <th>998</th>\n",
       "      <td>../data/original\\normal-z-line\\ff257b71-d9b1-4...</td>\n",
       "      <td>1</td>\n",
       "    </tr>\n",
       "    <tr>\n",
       "      <th>999</th>\n",
       "      <td>../data/original\\normal-z-line\\ff437fd4-8c80-4...</td>\n",
       "      <td>1</td>\n",
       "    </tr>\n",
       "  </tbody>\n",
       "</table>\n",
       "<p>1000 rows × 2 columns</p>\n",
       "</div>"
      ],
      "text/plain": [
       "                                                 paths  labels\n",
       "0    ../data/original\\esophagitis\\001fb927-4814-4ba...       0\n",
       "1    ../data/original\\esophagitis\\00687a70-bbad-4bf...       0\n",
       "2    ../data/original\\esophagitis\\0134d93d-0922-406...       0\n",
       "3    ../data/original\\esophagitis\\01a57b1a-780f-4e5...       0\n",
       "4    ../data/original\\esophagitis\\01f092a2-fccb-49f...       0\n",
       "..                                                 ...     ...\n",
       "995  ../data/original\\normal-z-line\\fcb8704e-f308-4...       1\n",
       "996  ../data/original\\normal-z-line\\fdb68e1c-a08b-4...       1\n",
       "997  ../data/original\\normal-z-line\\fde68ca4-2c9f-4...       1\n",
       "998  ../data/original\\normal-z-line\\ff257b71-d9b1-4...       1\n",
       "999  ../data/original\\normal-z-line\\ff437fd4-8c80-4...       1\n",
       "\n",
       "[1000 rows x 2 columns]"
      ]
     },
     "execution_count": 5,
     "metadata": {},
     "output_type": "execute_result"
    }
   ],
   "source": [
    "df_res"
   ]
  },
  {
   "cell_type": "markdown",
   "id": "241cc28b",
   "metadata": {},
   "source": [
    "## Удаление черных краев на картинках"
   ]
  },
  {
   "cell_type": "code",
   "execution_count": 6,
   "id": "f1e2bf9e",
   "metadata": {},
   "outputs": [],
   "source": [
    "def find_mask(img):\n",
    "    \"\"\"\n",
    "    Удаление черных границ по маске.\n",
    "    \"\"\"\n",
    "    # Convert Image to Image HSV\n",
    "    hsv = cv.cvtColor(img, cv.COLOR_BGR2HSV)\n",
    "\n",
    "    # Defining lower and upper bound HSV values\n",
    "    lower = np.array([0,0,0])\n",
    "    upper = np.array([350,20,90])\n",
    "\n",
    "    # Defining mask for detecting color\n",
    "    mask = cv.inRange(hsv, lower, upper)\n",
    "\n",
    "    # invert mask\n",
    "    mask = cv.bitwise_not(mask)\n",
    "    \n",
    "    return mask"
   ]
  },
  {
   "cell_type": "code",
   "execution_count": 7,
   "id": "7ed7a588",
   "metadata": {},
   "outputs": [],
   "source": [
    "def save_img(img, img_path, add_name_img='', name_root_dir = '..\\\\data_prep\\\\'):\n",
    "    \"\"\"\n",
    "    Сохранение измененных картинок по оргиналу.\n",
    "    Сохраняется с тем же названием в другую папку\n",
    "    \"\"\"\n",
    "    \n",
    "    name_img = img_path.split('\\\\')[-1].split('.')[0]+ add_name_img + '.jpg'\n",
    "    name_dir = img_path.split('\\\\')[-2]\n",
    "\n",
    "    path = name_root_dir + name_dir + '\\\\' + name_img\n",
    "    cv.imwrite(path, img)"
   ]
  },
  {
   "cell_type": "code",
   "execution_count": 8,
   "id": "868c853b",
   "metadata": {
    "scrolled": true
   },
   "outputs": [],
   "source": [
    "def del_area_behind_countour(mask_img):\n",
    "    mask_img = cv.GaussianBlur(mask_img, (11,11), 10)\n",
    "\n",
    "    ret, thresh = cv.threshold(mask_img, 127, 255, 0)\n",
    "    contours, hierarchy = cv.findContours(thresh, cv.RETR_TREE, cv.CHAIN_APPROX_SIMPLE)\n",
    "    \n",
    "    mask = np.zeros(img.shape[0:2], dtype=np.uint8)\n",
    "\n",
    "    points = sorted(contours, key= lambda c: len(c))[-1]\n",
    "\n",
    "    #method 1 smooth region\n",
    "    cv.drawContours(mask, [points], -1, (255, 255, 255), -1, cv.LINE_AA)\n",
    "    res = cv.bitwise_and(img, img, mask = mask)\n",
    "    rect = cv.boundingRect(points) # returns (x,y,w,h) of the rect\n",
    "    cropped = res[rect[1]: rect[1] + rect[3], rect[0]: rect[0] + rect[2]]\n",
    "    \n",
    "    return cropped\n"
   ]
  },
  {
   "cell_type": "code",
   "execution_count": 9,
   "id": "4d3234e5",
   "metadata": {
    "scrolled": true
   },
   "outputs": [],
   "source": [
    "for i in range(df_res.shape[0]):\n",
    "    path = df_res['paths'][i]\n",
    "    img = cv.imread(path, 1)\n",
    "    img_res = del_area_behind_countour(find_mask(img))\n",
    "    save_img(img_res, path)"
   ]
  },
  {
   "cell_type": "code",
   "execution_count": 10,
   "id": "ad01fd35",
   "metadata": {},
   "outputs": [],
   "source": [
    "# # проверка на одной картинке\n",
    "# path = df_res['paths'][10]\n",
    "# img = cv.imread(path, 1)\n",
    "# img_res = del_black_edge(del_letters(img))\n",
    "# save_img(img_res, path)"
   ]
  },
  {
   "cell_type": "markdown",
   "id": "052e6e13",
   "metadata": {},
   "source": [
    "# Разделение полученного датасета"
   ]
  },
  {
   "cell_type": "code",
   "execution_count": 6,
   "id": "404e7227",
   "metadata": {},
   "outputs": [],
   "source": [
    "def train_test_split_(df_img_label):\n",
    "    \n",
    "    X = np.array(df_img_label['paths'])\n",
    "    y = np.array(df_img_label['labels'])\n",
    "    X_train, X_test, y_train, y_test = train_test_split(X, y,\n",
    "                                                        test_size=0.10, random_state=42)\n",
    "    \n",
    "    X_train, X_valid, y_train, y_valid = train_test_split(X_train, y_train,\n",
    "                                                        test_size=0.20, random_state=42)\n",
    "    \n",
    "    name_columns = ['paths', 'labels']\n",
    "    train = pd.DataFrame(zip(X_train, y_train), columns=name_columns)\n",
    "    valid = pd.DataFrame(zip(X_valid, y_valid), columns=name_columns)\n",
    "    test = pd.DataFrame(zip(X_test, y_test), columns=name_columns)\n",
    "    \n",
    "    return train, valid, test\n",
    "\n",
    "\n",
    "def save_as_csv(train, valid, test, save_dir='../data/prepared/'):\n",
    "#     save_dir = Path(ROOT, 'data', 'prepared')\n",
    "    train.to_csv(save_dir + 'train.csv', index=False)\n",
    "    valid.to_csv(save_dir + 'valid.csv', index=False)\n",
    "    test.to_csv(save_dir + 'test.csv', index=False)"
   ]
  },
  {
   "cell_type": "code",
   "execution_count": 7,
   "id": "f1b4303b",
   "metadata": {},
   "outputs": [],
   "source": [
    "df_path_data_pred = get_files_and_labels(['../data_prep/'])\n",
    "train, valid, test = train_test_split_(df_path_data_pred)\n",
    "save_as_csv(train, valid, test)"
   ]
  },
  {
   "cell_type": "code",
   "execution_count": 12,
   "id": "982ad09e",
   "metadata": {},
   "outputs": [
    {
     "name": "stdout",
     "output_type": "stream",
     "text": [
      "len train  720\n",
      "len valid  180\n",
      "len test  100\n"
     ]
    }
   ],
   "source": [
    "print('len train ', len(train))\n",
    "print('len valid ', len(valid))\n",
    "print('len test ', len(test))"
   ]
  },
  {
   "cell_type": "markdown",
   "id": "79f0f5ee",
   "metadata": {},
   "source": [
    "### Другие функции"
   ]
  },
  {
   "cell_type": "code",
   "execution_count": null,
   "id": "8f63af79",
   "metadata": {},
   "outputs": [],
   "source": [
    "def del_black_edge_one(src):\n",
    "    \"\"\"\n",
    "    Удаляет черные границы на картинке.\n",
    "    \n",
    "    src: считанная картинка при помощи cv.imread()\n",
    "    \"\"\"\n",
    "    tmp = cv.cvtColor(src, cv.COLOR_BGR2GRAY)\n",
    "    # Applying thresholding technique\n",
    "    _, alpha = cv.threshold(tmp, 0, 255, cv.THRESH_BINARY)\n",
    "\n",
    "    # Using cv2.split() to split channels \n",
    "    # of coloured image\n",
    "    b, g, r = cv.split(src)\n",
    "   \n",
    "    # Making list of Red, Green, Blue\n",
    "    # Channels and alpha\n",
    "    rgba = [b, g, r, alpha]\n",
    "\n",
    "    # Using cv2.merge() to merge rgba\n",
    "    # into a coloured/multi-channeled image\n",
    "    dst = cv.merge(rgba, 4)\n",
    "    \n",
    "    return dst"
   ]
  },
  {
   "cell_type": "code",
   "execution_count": null,
   "id": "74b05345",
   "metadata": {},
   "outputs": [],
   "source": [
    "def del_letters(img):\n",
    "    \"\"\"\n",
    "    Удаление букв на картинке.\n",
    "    Некоторые цифры и буквы могут не удалиться.\n",
    "    Необходимо выполнить перед удалением черных краев.\n",
    "    \"\"\"\n",
    "#     img_blur = cv.GaussianBlur(img, (5,5),5)\n",
    "    mask = cv.threshold(img_blur, 210, 255, cv.THRESH_BINARY)[1][:,:,0]\n",
    "    img_res = cv.inpaint(img_blur, mask, 8, cv.INPAINT_NS)\n",
    "    \n",
    "    return img_res"
   ]
  }
 ],
 "metadata": {
  "kernelspec": {
   "display_name": "Python 3 (ipykernel)",
   "language": "python",
   "name": "python3"
  },
  "language_info": {
   "codemirror_mode": {
    "name": "ipython",
    "version": 3
   },
   "file_extension": ".py",
   "mimetype": "text/x-python",
   "name": "python",
   "nbconvert_exporter": "python",
   "pygments_lexer": "ipython3",
   "version": "3.7.11"
  }
 },
 "nbformat": 4,
 "nbformat_minor": 5
}
